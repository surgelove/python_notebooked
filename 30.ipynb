{
 "cells": [
  {
   "cell_type": "code",
   "execution_count": 7,
   "metadata": {},
   "outputs": [
    {
     "data": {
      "text/plain": [
       "200"
      ]
     },
     "execution_count": 7,
     "metadata": {},
     "output_type": "execute_result"
    }
   ],
   "source": [
    "a = 200\n",
    "b = 100\n",
    "# maxval short version\n",
    "maxval = a if a > b else b\n",
    "maxval"
   ]
  },
  {
   "cell_type": "code",
   "execution_count": 8,
   "metadata": {},
   "outputs": [
    {
     "data": {
      "text/plain": [
       "200"
      ]
     },
     "execution_count": 8,
     "metadata": {},
     "output_type": "execute_result"
    }
   ],
   "source": [
    "a = 200\n",
    "b = 100\n",
    "# Long version\n",
    "if a > b:\n",
    "    maxval = a\n",
    "else:\n",
    "    maxval = b\n",
    "maxval"
   ]
  },
  {
   "cell_type": "markdown",
   "metadata": {},
   "source": [
    "# I am the Walrus, ku ku ke tchu"
   ]
  },
  {
   "cell_type": "code",
   "execution_count": 13,
   "metadata": {},
   "outputs": [
    {
     "name": "stdout",
     "output_type": "stream",
     "text": [
      "1 2 3 4 5 6 7 8 9 "
     ]
    }
   ],
   "source": [
    "# Loop short version with Walrus\n",
    "x=0\n",
    "while (x := x + 1) < 10: # Prints 1, 2, 3, ..., 9\n",
    "    print(x, end=' ')\n"
   ]
  },
  {
   "cell_type": "code",
   "execution_count": 16,
   "metadata": {},
   "outputs": [
    {
     "name": "stdout",
     "output_type": "stream",
     "text": [
      "0 1 2 3 4 5 6 7 8 9 "
     ]
    }
   ],
   "source": [
    "# Loop long version without Walrus\n",
    "x=0\n",
    "while x < 10:\n",
    "    print(x, end=' ')\n",
    "    x += 1"
   ]
  },
  {
   "cell_type": "code",
   "execution_count": 17,
   "metadata": {},
   "outputs": [],
   "source": [
    "# Breaking out of a loop"
   ]
  },
  {
   "cell_type": "code",
   "execution_count": 23,
   "metadata": {},
   "outputs": [
    {
     "name": "stdout",
     "output_type": "stream",
     "text": [
      "0 1 2 3 4 Done\n"
     ]
    }
   ],
   "source": [
    "x=0\n",
    "while x < 10:\n",
    "    if x == 5:\n",
    "        break  # Stops the loop. Moves to Done below\n",
    "    print(x, end=' ')\n",
    "    x += 1\n",
    "print('Done')"
   ]
  },
  {
   "cell_type": "code",
   "execution_count": 24,
   "metadata": {},
   "outputs": [
    {
     "name": "stdout",
     "output_type": "stream",
     "text": [
      "1 2 3 4 6 7 8 9 10 Done\n"
     ]
    }
   ],
   "source": [
    "# Continuing in a loop\n",
    "x=0\n",
    "while x < 10:\n",
    "    x += 1\n",
    "    if x == 5:\n",
    "        continue  # Skips the print(x). Goes back to loop start.\n",
    "    print(x, end=' ')\n",
    "print('Done')"
   ]
  },
  {
   "cell_type": "code",
   "execution_count": 36,
   "metadata": {},
   "outputs": [
    {
     "data": {
      "text/plain": [
       "('Hello World',\n",
       " 'Python is groovy',\n",
       " \"'\\\\n    \\\\n    \\\\n    Computer says no.\\\\n    \\\\n    \\\\n    '\",\n",
       " '\\n    Computer still says no.\\n    ')"
      ]
     },
     "execution_count": 36,
     "metadata": {},
     "output_type": "execute_result"
    }
   ],
   "source": [
    "# Strings\n",
    "a = 'Hello World'\n",
    "b = \"Python is groovy\"\n",
    "c = '''\n",
    "    \n",
    "    \n",
    "    Computer says no.\n",
    "    \n",
    "    \n",
    "    '''\n",
    "d = \"\"\"\n",
    "    Computer still says no.\n",
    "    \"\"\"\n",
    "a, b, repr(c), str(d)\n"
   ]
  },
  {
   "cell_type": "code",
   "execution_count": 35,
   "metadata": {},
   "outputs": [
    {
     "name": "stdout",
     "output_type": "stream",
     "text": [
      "\n",
      "    \n",
      "    \n",
      "    Computer says no.\n",
      "    \n",
      "    \n",
      "    \n"
     ]
    }
   ],
   "source": [
    "print(c)"
   ]
  },
  {
   "cell_type": "markdown",
   "metadata": {},
   "source": [
    "Although str() and repr() both create strings, their output is often different. \n",
    "\n",
    "str() produces the output that you get when you use the print() function, \n",
    "\n",
    "whereas repr() creates a string that you type into a program to exactly represent the value of an object."
   ]
  },
  {
   "cell_type": "markdown",
   "metadata": {},
   "source": []
  }
 ],
 "metadata": {
  "kernelspec": {
   "display_name": "Python 3",
   "language": "python",
   "name": "python3"
  },
  "language_info": {
   "codemirror_mode": {
    "name": "ipython",
    "version": 3
   },
   "file_extension": ".py",
   "mimetype": "text/x-python",
   "name": "python",
   "nbconvert_exporter": "python",
   "pygments_lexer": "ipython3",
   "version": "3.10.14"
  }
 },
 "nbformat": 4,
 "nbformat_minor": 2
}
